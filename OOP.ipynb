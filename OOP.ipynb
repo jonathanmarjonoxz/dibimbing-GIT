{
 "cells": [
  {
   "cell_type": "markdown",
   "metadata": {},
   "source": [
    "Assignment dan dataset : https://drive.google.com/drive/folders/1PZAfEthz7VXFgSpNdj--AdIX-bLmr7My?usp=sharing\n",
    "\n",
    "Task 1: Basic OOP Buatlah class MarketingDataETL yang memiliki tiga metode:\n",
    "\n",
    "extract(): akan membaca data dari sebuah file CSV (Misalkan, marketing_data.csv) transform(): akan melakukan pembersihan dan transformasi sederhana pada data (seperti mengubah format tanggal atau membersihkan nilai yang kosong) store(): akan menyimpan data yang telah ditransformasi ke dalam struktur data DataFramet."
   ]
  },
  {
   "cell_type": "code",
   "execution_count": 1,
   "metadata": {},
   "outputs": [
    {
     "name": "stdout",
     "output_type": "stream",
     "text": [
      "  customer_id purchase_date product_category  amount_spent\n",
      "0        C001      01/03/23      Electronics        250.00\n",
      "1        C002      02/03/23            Books         45.50\n",
      "2        C003      03/03/23    Home & Garden        150.75\n",
      "3        C001      04/03/23            Books         20.00\n",
      "4        C002      05/03/23      Electronics        525.00\n",
      "5        C004           NaN      Electronics        399.99\n",
      "6        C003           NaN            Books         10.50\n",
      "7        C005      07/03/23           Beauty         75.00\n"
     ]
    }
   ],
   "source": [
    "#extract(): akan membaca data dari sebuah file CSV (Misalkan, marketing_data.csv)\n",
    "import pandas as pd\n",
    "\n",
    "# Define the URL of the CSV file\n",
    "url = \"https://drive.google.com/uc?id=13wg8hC7kpMSzNeS2c27dTKplRKkLgNfn\"\n",
    "\n",
    "# Read the CSV file into a pandas DataFrame\n",
    "df = pd.read_csv(url, delimiter=';')\n",
    "\n",
    "# Display the DataFrame\n",
    "print(df)"
   ]
  },
  {
   "cell_type": "code",
   "execution_count": 2,
   "metadata": {},
   "outputs": [
    {
     "name": "stdout",
     "output_type": "stream",
     "text": [
      "  customer_id purchase_date product_category  amount_spent\n",
      "0        C001    2023-03-01      Electronics        250.00\n",
      "1        C002    2023-03-02            Books         45.50\n",
      "2        C003    2023-03-03    Home & Garden        150.75\n",
      "3        C001    2023-03-04            Books         20.00\n",
      "4        C002    2023-03-05      Electronics        525.00\n",
      "7        C005    2023-03-07           Beauty         75.00\n"
     ]
    }
   ],
   "source": [
    "#transform(): akan melakukan pembersihan dan transformasi sederhana pada data (seperti mengubah format tanggal atau membersihkan nilai yang kosong)\n",
    "df.dropna(inplace=True)\n",
    "df['purchase_date'] = pd.to_datetime(df['purchase_date'], format='%d/%m/%y')\n",
    "df['purchase_date'] = df['purchase_date'].dt.strftime('%Y-%m-%d')\n",
    "print(df)"
   ]
  },
  {
   "cell_type": "code",
   "execution_count": 3,
   "metadata": {},
   "outputs": [
    {
     "name": "stdout",
     "output_type": "stream",
     "text": [
      "Data has been successfully saved to file name as OPP_update.csv\n",
      "  customer_id purchase_date product_category  amount_spent\n",
      "0        C001    2023-03-01      Electronics        250.00\n",
      "1        C002    2023-03-02            Books         45.50\n",
      "2        C003    2023-03-03    Home & Garden        150.75\n",
      "3        C001    2023-03-04            Books         20.00\n",
      "4        C002    2023-03-05      Electronics        525.00\n",
      "5        C005    2023-03-07           Beauty         75.00\n"
     ]
    }
   ],
   "source": [
    "#store(): akan menyimpan data yang telah ditransformasi ke dalam struktur data DataFrame\n",
    "output_file = \"OPP_update.csv\"\n",
    "df.to_csv(output_file, index=False)\n",
    "print(\"Data has been successfully saved to file name as\", output_file)\n",
    "\n",
    "df_new = pd.read_csv(\"OPP_update.csv\")\n",
    "print(df_new)"
   ]
  },
  {
   "cell_type": "code",
   "execution_count": 4,
   "metadata": {},
   "outputs": [
    {
     "name": "stdout",
     "output_type": "stream",
     "text": [
      "extract Done\n",
      "transform Done\n",
      "store Done\n"
     ]
    }
   ],
   "source": [
    "import pandas as pd\n",
    "\n",
    "class MarketingDataETL:\n",
    "    def __init__(self, url):\n",
    "        self.url = url\n",
    "        self.data = None\n",
    "\n",
    "    def extract(self):\n",
    "        # Read the CSV file into a pandas DataFrame\n",
    "        self.data = pd.read_csv(self.url, delimiter=';')\n",
    "        print(\"extract Done\")\n",
    "\n",
    "    def transform(self):\n",
    "        # Drop rows with missing values (NA)\n",
    "        if self.data is not None:\n",
    "            self.data.dropna(inplace=True)\n",
    "            # Convert 'purchase_date' column to datetime format (YYYY-MM-DD)\n",
    "            self.data['purchase_date'] = pd.to_datetime(self.data['purchase_date'], format='%d/%m/%y')\n",
    "            # Reformat 'purchase_date' column to YYYY-MM-DD\n",
    "            self.data['purchase_date'] = self.data['purchase_date'].dt.strftime('%Y-%m-%d')\n",
    "            print(\"transform Done\")\n",
    "\n",
    "    def store(self, output_file):\n",
    "        # Store the transformed DataFrame to a CSV file\n",
    "        if self.data is not None:\n",
    "            self.data.to_csv(output_file, index=False)\n",
    "            print(\"store Done\")\n",
    "\n",
    "# Example usage:\n",
    "if __name__ == \"__main__\":\n",
    "    # Define the URL of the CSV file\n",
    "    url = \"https://drive.google.com/uc?id=13wg8hC7kpMSzNeS2c27dTKplRKkLgNfn\"\n",
    "\n",
    "    # Initialize the ETL class with the URL\n",
    "    etl_processor = MarketingDataETL(url)\n",
    "\n",
    "    # Extract data\n",
    "    etl_processor.extract()\n",
    "\n",
    "    # Transform data (remove NA values and reformat dates)\n",
    "    etl_processor.transform()\n",
    "\n",
    "    # Store the transformed data into a CSV file\n",
    "    etl_processor.store(\"transformed_marketing_data.csv\")\n"
   ]
  },
  {
   "cell_type": "code",
   "execution_count": 5,
   "metadata": {},
   "outputs": [
    {
     "name": "stdout",
     "output_type": "stream",
     "text": [
      "  customer_id purchase_date product_category  amount_spent\n",
      "0        C001    2023-03-01      Electronics        250.00\n",
      "1        C002    2023-03-02            Books         45.50\n",
      "2        C003    2023-03-03    Home & Garden        150.75\n",
      "3        C001    2023-03-04            Books         20.00\n",
      "4        C002    2023-03-05      Electronics        525.00\n",
      "5        C005    2023-03-07           Beauty         75.00\n"
     ]
    }
   ],
   "source": [
    "# Read the CSV file into a pandas DataFrame\n",
    "df = pd.read_csv(\"transformed_marketing_data.csv\")\n",
    "\n",
    "# Display the DataFrame\n",
    "print(df)"
   ]
  },
  {
   "cell_type": "markdown",
   "metadata": {},
   "source": [
    "# Task 2: Inheritance & Polymorphism\n",
    "\n",
    "\n",
    "*   Gunakan inheritance untuk membuat class TargetedMarketingETL yang mewarisi dari MarketingDataETL.\n",
    "*   Tambahkan metode segment_customers() yang mengelompokkan pelanggan berdasarkan kriteria tertentu (misalnya, pengeluaran total atau kategori produk yang dibeli).\n",
    "*   Demonstrasi polymorphism dengan meng-override metode transform() dalam TargetedMarketingETL untuk menambahkan logika segmentasi pelanggan ke dalam proses transformasi.\n",
    "\n",
    "\n",
    "\n",
    "\n",
    "\n",
    "\n",
    "\n",
    "\n"
   ]
  },
  {
   "cell_type": "code",
   "execution_count": 1,
   "metadata": {},
   "outputs": [
    {
     "name": "stdout",
     "output_type": "stream",
     "text": [
      "  customer_id purchase_date product_category  amount_spent membership_rank\n",
      "0        C001    2023-03-01      Electronics        250.00          Silver\n",
      "1        C002    2023-03-02            Books         45.50          Bronze\n",
      "2        C003    2023-03-03    Home & Garden        150.75          Silver\n",
      "3        C001    2023-03-04            Books         20.00          Bronze\n",
      "4        C002    2023-03-05      Electronics        525.00        Platinum\n",
      "5        C005    2023-03-07           Beauty         75.00          Bronze\n"
     ]
    }
   ],
   "source": [
    "#Inheritance\n",
    "import pandas as pd\n",
    "\n",
    "class MarketingDataETL:\n",
    "    def __init__(self, url):\n",
    "        self.url = url\n",
    "        self.data = None\n",
    "\n",
    "    def extract(self):\n",
    "        # Read the CSV file into a pandas DataFrame\n",
    "        self.data = pd.read_csv(self.url, delimiter=';')\n",
    "\n",
    "    def transform(self):\n",
    "        # Drop rows with missing values (NA)\n",
    "        if self.data is not None:\n",
    "            self.data.dropna(inplace=True)\n",
    "            # Convert 'purchase_date' column to datetime format (YYYY-MM-DD)\n",
    "            self.data['purchase_date'] = pd.to_datetime(self.data['purchase_date'], format='%d/%m/%y')\n",
    "            # Reformat 'purchase_date' column to YYYY-MM-DD\n",
    "            self.data['purchase_date'] = self.data['purchase_date'].dt.strftime('%Y-%m-%d')\n",
    "\n",
    "    def store(self, output_file):\n",
    "        # Store the transformed DataFrame to a CSV file\n",
    "        if self.data is not None:\n",
    "            self.data.to_csv(output_file, index=False)\n",
    "\n",
    "class TargetedMarketingETL(MarketingDataETL):\n",
    "    def segment_customers(self):\n",
    "        if self.data is not None:\n",
    "            # Categorize customers based on amount_spent\n",
    "            bins = [0, 100, 300, 500, float('inf')]\n",
    "            labels = ['Bronze', 'Silver', 'Gold', 'Platinum']\n",
    "            self.data['membership_rank'] = pd.cut(self.data['amount_spent'], bins=bins, labels=labels, right=False)\n",
    "\n",
    "# Example usage:\n",
    "url = \"https://drive.google.com/uc?id=13wg8hC7kpMSzNeS2c27dTKplRKkLgNfn\"\n",
    "etl_processor = TargetedMarketingETL(url)\n",
    "etl_processor.extract()\n",
    "etl_processor.transform()\n",
    "etl_processor.segment_customers()\n",
    "etl_processor.store(\"transformed_data.csv\")\n",
    "\n",
    "# Read the CSV file into a pandas DataFrame\n",
    "df = pd.read_csv(\"transformed_data.csv\")\n",
    "\n",
    "# Display the DataFrame\n",
    "print(df)"
   ]
  },
  {
   "cell_type": "code",
   "execution_count": null,
   "metadata": {},
   "outputs": [],
   "source": [
    "#Polymorphism\n",
    "import pandas as pd\n",
    "\n",
    "class MarketingDataETL:\n",
    "    def __init__(self, url):\n",
    "        self.url = url\n",
    "        self.data = None\n",
    "\n",
    "    def extract(self):\n",
    "        # Read the CSV file into a pandas DataFrame\n",
    "        self.data = pd.read_csv(self.url, delimiter=';')\n",
    "\n",
    "    def transform(self):\n",
    "        # Drop rows with missing values (NA)\n",
    "        if self.data is not None:\n",
    "            self.data.dropna(inplace=True)\n",
    "            # Convert 'purchase_date' column to datetime format (YYYY-MM-DD)\n",
    "            self.data['purchase_date'] = pd.to_datetime(self.data['purchase_date'], format='%d/%m/%y')\n",
    "            # Reformat 'purchase_date' column to YYYY-MM-DD\n",
    "            self.data['purchase_date'] = self.data['purchase_date'].dt.strftime('%Y-%m-%d')\n",
    "\n",
    "    def store(self, output_file):\n",
    "        # Store the transformed DataFrame to a CSV file\n",
    "        if self.data is not None:\n",
    "            self.data.to_csv(output_file, index=False)\n",
    "\n",
    "class TargetedMarketingETL(MarketingDataETL):\n",
    "    def segment_customers(self):\n",
    "        if self.data is not None:\n",
    "            # Categorize customers based on amount_spent\n",
    "            bins = [0, 100, 300, 500, float('inf')]\n",
    "            labels = ['Bronze', 'Silver', 'Gold', 'Platinum']\n",
    "            self.data['membership_rank'] = pd.cut(self.data['amount_spent'], bins=bins, labels=labels, right=False)\n",
    "\n",
    "    def transform(self):\n",
    "        # Call the parent class's transform method to perform initial transformations\n",
    "        super().transform()\n",
    "\n",
    "        # Additional transformation specific to TargetedMarketingETL\n",
    "        self.segment_customers()\n",
    "\n",
    "class MarketingDataViewer:\n",
    "    def display(self, data):\n",
    "        # Default display method just prints the DataFrame\n",
    "        print(data)\n",
    "\n",
    "# URL sumber data\n",
    "url = \"https://drive.google.com/uc?id=13wg8hC7kpMSzNeS2c27dTKplRKkLgNfn\"\n",
    "\n",
    "# Proses ETL menggunakan kelas TargetedMarketingETL\n",
    "etl_processor = TargetedMarketingETL(url)\n",
    "\n",
    "# Ekstraksi, transformasi, dan segmentasi pelanggan\n",
    "etl_processor.extract()\n",
    "etl_processor.transform()  # Metode transform overridden\n",
    "etl_processor.store(\"transformed_data.csv\")\n",
    "\n",
    "# Membaca data hasil transformasi ke dalam DataFrame\n",
    "df = pd.read_csv(\"transformed_data.csv\")\n",
    "\n",
    "# Membuat objek MarketingDataViewer\n",
    "viewer = MarketingDataViewer()\n",
    "\n",
    "# Menampilkan DataFrame menggunakan polymorphism\n",
    "viewer.display(df)"
   ]
  }
 ],
 "metadata": {
  "kernelspec": {
   "display_name": "Python 3",
   "language": "python",
   "name": "python3"
  },
  "language_info": {
   "codemirror_mode": {
    "name": "ipython",
    "version": 3
   },
   "file_extension": ".py",
   "mimetype": "text/x-python",
   "name": "python",
   "nbconvert_exporter": "python",
   "pygments_lexer": "ipython3",
   "version": "3.12.0"
  }
 },
 "nbformat": 4,
 "nbformat_minor": 2
}
